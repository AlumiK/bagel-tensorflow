{
  "nbformat": 4,
  "nbformat_minor": 0,
  "metadata": {
    "colab": {
      "name": "bagel_playground.ipynb",
      "provenance": [],
      "toc_visible": true,
      "authorship_tag": "ABX9TyNQ1Dj7kimKKPtBgABZq07w"
    },
    "kernelspec": {
      "name": "python3",
      "display_name": "Python 3"
    },
    "accelerator": "GPU"
  },
  "cells": [
    {
      "cell_type": "markdown",
      "metadata": {
        "id": "tNMS5uO_L1a0"
      },
      "source": [
        "# Bagel Playground"
      ]
    },
    {
      "cell_type": "markdown",
      "metadata": {
        "id": "pNLB8WS45Rax"
      },
      "source": [
        "Check runtime type (CPU or GPU):"
      ]
    },
    {
      "cell_type": "code",
      "metadata": {
        "id": "Ytf4syj45bOR",
        "outputId": "24281a90-8f49-4d33-eed2-8f06254d0c54",
        "colab": {
          "base_uri": "https://localhost:8080/"
        }
      },
      "source": [
        "!nvidia-smi -L"
      ],
      "execution_count": 1,
      "outputs": [
        {
          "output_type": "stream",
          "text": [
            "GPU 0: Tesla T4 (UUID: GPU-31590316-ffb9-6021-93c6-e72990f54653)\n"
          ],
          "name": "stdout"
        }
      ]
    },
    {
      "cell_type": "markdown",
      "metadata": {
        "id": "lXlVzfJK1gYK"
      },
      "source": [
        "Install Bagel from source and download the test data:"
      ]
    },
    {
      "cell_type": "code",
      "metadata": {
        "id": "9dmgsrd91dFN",
        "outputId": "59d03e3c-9104-441e-f102-575d3ae66f8b",
        "colab": {
          "base_uri": "https://localhost:8080/"
        }
      },
      "source": [
        "!pip install git+https://github.com/AlumiK/bagel-tensorflow.git\n",
        "!wget https://github.com/AlumiK/bagel-tensorflow/raw/main/sample/data/cpu4.csv"
      ],
      "execution_count": 2,
      "outputs": [
        {
          "output_type": "stream",
          "text": [
            "Collecting git+https://github.com/AlumiK/bagel-tensorflow.git\n",
            "  Cloning https://github.com/AlumiK/bagel-tensorflow.git to /tmp/pip-req-build-ozonkcl8\n",
            "  Running command git clone -q https://github.com/AlumiK/bagel-tensorflow.git /tmp/pip-req-build-ozonkcl8\n",
            "Requirement already satisfied: pandas in /usr/local/lib/python3.6/dist-packages (from bagel-tensorflow==1.5.0) (1.1.4)\n",
            "Requirement already satisfied: scikit-learn in /usr/local/lib/python3.6/dist-packages (from bagel-tensorflow==1.5.0) (0.22.2.post1)\n",
            "Requirement already satisfied: tensorflow in /usr/local/lib/python3.6/dist-packages (from bagel-tensorflow==1.5.0) (2.3.0)\n",
            "Requirement already satisfied: tensorflow-probability in /usr/local/lib/python3.6/dist-packages (from bagel-tensorflow==1.5.0) (0.11.0)\n",
            "Requirement already satisfied: python-dateutil>=2.7.3 in /usr/local/lib/python3.6/dist-packages (from pandas->bagel-tensorflow==1.5.0) (2.8.1)\n",
            "Requirement already satisfied: numpy>=1.15.4 in /usr/local/lib/python3.6/dist-packages (from pandas->bagel-tensorflow==1.5.0) (1.18.5)\n",
            "Requirement already satisfied: pytz>=2017.2 in /usr/local/lib/python3.6/dist-packages (from pandas->bagel-tensorflow==1.5.0) (2018.9)\n",
            "Requirement already satisfied: joblib>=0.11 in /usr/local/lib/python3.6/dist-packages (from scikit-learn->bagel-tensorflow==1.5.0) (0.17.0)\n",
            "Requirement already satisfied: scipy>=0.17.0 in /usr/local/lib/python3.6/dist-packages (from scikit-learn->bagel-tensorflow==1.5.0) (1.4.1)\n",
            "Requirement already satisfied: tensorboard<3,>=2.3.0 in /usr/local/lib/python3.6/dist-packages (from tensorflow->bagel-tensorflow==1.5.0) (2.3.0)\n",
            "Requirement already satisfied: wrapt>=1.11.1 in /usr/local/lib/python3.6/dist-packages (from tensorflow->bagel-tensorflow==1.5.0) (1.12.1)\n",
            "Requirement already satisfied: six>=1.12.0 in /usr/local/lib/python3.6/dist-packages (from tensorflow->bagel-tensorflow==1.5.0) (1.15.0)\n",
            "Requirement already satisfied: grpcio>=1.8.6 in /usr/local/lib/python3.6/dist-packages (from tensorflow->bagel-tensorflow==1.5.0) (1.33.2)\n",
            "Requirement already satisfied: h5py<2.11.0,>=2.10.0 in /usr/local/lib/python3.6/dist-packages (from tensorflow->bagel-tensorflow==1.5.0) (2.10.0)\n",
            "Requirement already satisfied: termcolor>=1.1.0 in /usr/local/lib/python3.6/dist-packages (from tensorflow->bagel-tensorflow==1.5.0) (1.1.0)\n",
            "Requirement already satisfied: keras-preprocessing<1.2,>=1.1.1 in /usr/local/lib/python3.6/dist-packages (from tensorflow->bagel-tensorflow==1.5.0) (1.1.2)\n",
            "Requirement already satisfied: protobuf>=3.9.2 in /usr/local/lib/python3.6/dist-packages (from tensorflow->bagel-tensorflow==1.5.0) (3.12.4)\n",
            "Requirement already satisfied: gast==0.3.3 in /usr/local/lib/python3.6/dist-packages (from tensorflow->bagel-tensorflow==1.5.0) (0.3.3)\n",
            "Requirement already satisfied: wheel>=0.26 in /usr/local/lib/python3.6/dist-packages (from tensorflow->bagel-tensorflow==1.5.0) (0.35.1)\n",
            "Requirement already satisfied: astunparse==1.6.3 in /usr/local/lib/python3.6/dist-packages (from tensorflow->bagel-tensorflow==1.5.0) (1.6.3)\n",
            "Requirement already satisfied: absl-py>=0.7.0 in /usr/local/lib/python3.6/dist-packages (from tensorflow->bagel-tensorflow==1.5.0) (0.10.0)\n",
            "Requirement already satisfied: opt-einsum>=2.3.2 in /usr/local/lib/python3.6/dist-packages (from tensorflow->bagel-tensorflow==1.5.0) (3.3.0)\n",
            "Requirement already satisfied: tensorflow-estimator<2.4.0,>=2.3.0 in /usr/local/lib/python3.6/dist-packages (from tensorflow->bagel-tensorflow==1.5.0) (2.3.0)\n",
            "Requirement already satisfied: google-pasta>=0.1.8 in /usr/local/lib/python3.6/dist-packages (from tensorflow->bagel-tensorflow==1.5.0) (0.2.0)\n",
            "Requirement already satisfied: dm-tree in /usr/local/lib/python3.6/dist-packages (from tensorflow-probability->bagel-tensorflow==1.5.0) (0.1.5)\n",
            "Requirement already satisfied: cloudpickle==1.3 in /usr/local/lib/python3.6/dist-packages (from tensorflow-probability->bagel-tensorflow==1.5.0) (1.3.0)\n",
            "Requirement already satisfied: decorator in /usr/local/lib/python3.6/dist-packages (from tensorflow-probability->bagel-tensorflow==1.5.0) (4.4.2)\n",
            "Requirement already satisfied: werkzeug>=0.11.15 in /usr/local/lib/python3.6/dist-packages (from tensorboard<3,>=2.3.0->tensorflow->bagel-tensorflow==1.5.0) (1.0.1)\n",
            "Requirement already satisfied: setuptools>=41.0.0 in /usr/local/lib/python3.6/dist-packages (from tensorboard<3,>=2.3.0->tensorflow->bagel-tensorflow==1.5.0) (50.3.2)\n",
            "Requirement already satisfied: requests<3,>=2.21.0 in /usr/local/lib/python3.6/dist-packages (from tensorboard<3,>=2.3.0->tensorflow->bagel-tensorflow==1.5.0) (2.23.0)\n",
            "Requirement already satisfied: google-auth<2,>=1.6.3 in /usr/local/lib/python3.6/dist-packages (from tensorboard<3,>=2.3.0->tensorflow->bagel-tensorflow==1.5.0) (1.17.2)\n",
            "Requirement already satisfied: tensorboard-plugin-wit>=1.6.0 in /usr/local/lib/python3.6/dist-packages (from tensorboard<3,>=2.3.0->tensorflow->bagel-tensorflow==1.5.0) (1.7.0)\n",
            "Requirement already satisfied: markdown>=2.6.8 in /usr/local/lib/python3.6/dist-packages (from tensorboard<3,>=2.3.0->tensorflow->bagel-tensorflow==1.5.0) (3.3.3)\n",
            "Requirement already satisfied: google-auth-oauthlib<0.5,>=0.4.1 in /usr/local/lib/python3.6/dist-packages (from tensorboard<3,>=2.3.0->tensorflow->bagel-tensorflow==1.5.0) (0.4.2)\n",
            "Requirement already satisfied: idna<3,>=2.5 in /usr/local/lib/python3.6/dist-packages (from requests<3,>=2.21.0->tensorboard<3,>=2.3.0->tensorflow->bagel-tensorflow==1.5.0) (2.10)\n",
            "Requirement already satisfied: chardet<4,>=3.0.2 in /usr/local/lib/python3.6/dist-packages (from requests<3,>=2.21.0->tensorboard<3,>=2.3.0->tensorflow->bagel-tensorflow==1.5.0) (3.0.4)\n",
            "Requirement already satisfied: certifi>=2017.4.17 in /usr/local/lib/python3.6/dist-packages (from requests<3,>=2.21.0->tensorboard<3,>=2.3.0->tensorflow->bagel-tensorflow==1.5.0) (2020.6.20)\n",
            "Requirement already satisfied: urllib3!=1.25.0,!=1.25.1,<1.26,>=1.21.1 in /usr/local/lib/python3.6/dist-packages (from requests<3,>=2.21.0->tensorboard<3,>=2.3.0->tensorflow->bagel-tensorflow==1.5.0) (1.24.3)\n",
            "Requirement already satisfied: rsa<5,>=3.1.4; python_version >= \"3\" in /usr/local/lib/python3.6/dist-packages (from google-auth<2,>=1.6.3->tensorboard<3,>=2.3.0->tensorflow->bagel-tensorflow==1.5.0) (4.6)\n",
            "Requirement already satisfied: cachetools<5.0,>=2.0.0 in /usr/local/lib/python3.6/dist-packages (from google-auth<2,>=1.6.3->tensorboard<3,>=2.3.0->tensorflow->bagel-tensorflow==1.5.0) (4.1.1)\n",
            "Requirement already satisfied: pyasn1-modules>=0.2.1 in /usr/local/lib/python3.6/dist-packages (from google-auth<2,>=1.6.3->tensorboard<3,>=2.3.0->tensorflow->bagel-tensorflow==1.5.0) (0.2.8)\n",
            "Requirement already satisfied: importlib-metadata; python_version < \"3.8\" in /usr/local/lib/python3.6/dist-packages (from markdown>=2.6.8->tensorboard<3,>=2.3.0->tensorflow->bagel-tensorflow==1.5.0) (2.0.0)\n",
            "Requirement already satisfied: requests-oauthlib>=0.7.0 in /usr/local/lib/python3.6/dist-packages (from google-auth-oauthlib<0.5,>=0.4.1->tensorboard<3,>=2.3.0->tensorflow->bagel-tensorflow==1.5.0) (1.3.0)\n",
            "Requirement already satisfied: pyasn1>=0.1.3 in /usr/local/lib/python3.6/dist-packages (from rsa<5,>=3.1.4; python_version >= \"3\"->google-auth<2,>=1.6.3->tensorboard<3,>=2.3.0->tensorflow->bagel-tensorflow==1.5.0) (0.4.8)\n",
            "Requirement already satisfied: zipp>=0.5 in /usr/local/lib/python3.6/dist-packages (from importlib-metadata; python_version < \"3.8\"->markdown>=2.6.8->tensorboard<3,>=2.3.0->tensorflow->bagel-tensorflow==1.5.0) (3.4.0)\n",
            "Requirement already satisfied: oauthlib>=3.0.0 in /usr/local/lib/python3.6/dist-packages (from requests-oauthlib>=0.7.0->google-auth-oauthlib<0.5,>=0.4.1->tensorboard<3,>=2.3.0->tensorflow->bagel-tensorflow==1.5.0) (3.1.0)\n",
            "Building wheels for collected packages: bagel-tensorflow\n",
            "  Building wheel for bagel-tensorflow (setup.py) ... \u001b[?25l\u001b[?25hdone\n",
            "  Created wheel for bagel-tensorflow: filename=bagel_tensorflow-1.5.0-cp36-none-any.whl size=10290 sha256=b7e3701fd1a3aad9ccb7968b1b9c79a1827217b90e434afcddb3d92b1ee0145a\n",
            "  Stored in directory: /tmp/pip-ephem-wheel-cache-2sqc4ifi/wheels/79/4f/da/07588a416042426b566b3a45a5940c0b8bfea1640c65709a8d\n",
            "Successfully built bagel-tensorflow\n",
            "Installing collected packages: bagel-tensorflow\n",
            "Successfully installed bagel-tensorflow-1.5.0\n",
            "--2020-11-11 11:45:36--  https://github.com/AlumiK/bagel-tensorflow/raw/main/sample/data/cpu4.csv\n",
            "Resolving github.com (github.com)... 140.82.113.3\n",
            "Connecting to github.com (github.com)|140.82.113.3|:443... connected.\n",
            "HTTP request sent, awaiting response... 302 Found\n",
            "Location: https://raw.githubusercontent.com/AlumiK/bagel-tensorflow/main/sample/data/cpu4.csv [following]\n",
            "--2020-11-11 11:45:36--  https://raw.githubusercontent.com/AlumiK/bagel-tensorflow/main/sample/data/cpu4.csv\n",
            "Resolving raw.githubusercontent.com (raw.githubusercontent.com)... 151.101.0.133, 151.101.64.133, 151.101.128.133, ...\n",
            "Connecting to raw.githubusercontent.com (raw.githubusercontent.com)|151.101.0.133|:443... connected.\n",
            "HTTP request sent, awaiting response... 200 OK\n",
            "Length: 463050 (452K) [text/plain]\n",
            "Saving to: ‘cpu4.csv’\n",
            "\n",
            "cpu4.csv            100%[===================>] 452.20K  --.-KB/s    in 0.01s   \n",
            "\n",
            "2020-11-11 11:45:36 (34.8 MB/s) - ‘cpu4.csv’ saved [463050/463050]\n",
            "\n"
          ],
          "name": "stdout"
        }
      ]
    },
    {
      "cell_type": "markdown",
      "metadata": {
        "id": "M2uoVFca4KGh"
      },
      "source": [
        "Import libraries:"
      ]
    },
    {
      "cell_type": "code",
      "metadata": {
        "id": "ZBZRzzzNK7bt"
      },
      "source": [
        "import os\n",
        "import bagel\n",
        "import matplotlib.pyplot as plt"
      ],
      "execution_count": 3,
      "outputs": []
    },
    {
      "cell_type": "markdown",
      "metadata": {
        "id": "udcizjue20Gx"
      },
      "source": [
        "Run Bagel:"
      ]
    },
    {
      "cell_type": "code",
      "metadata": {
        "id": "PBW6yBUBLcoo",
        "outputId": "39ff7065-f6c3-4c85-ca05-347c6c2f821b",
        "colab": {
          "base_uri": "https://localhost:8080/",
          "height": 409
        }
      },
      "source": [
        "# Read KPI data\n",
        "kpi = bagel.utils.load_kpi('cpu4.csv')\n",
        "print(f'KPI: {kpi.name}')\n",
        "\n",
        "# Fill missing points with 0\n",
        "kpi.complete_timestamp()\n",
        "\n",
        "# Split the KPI and standardize them\n",
        "train_kpi, valid_kpi, test_kpi = kpi.split((0.49, 0.21, 0.3))\n",
        "train_kpi, mean, std = train_kpi.standardize()\n",
        "valid_kpi, _, _ = valid_kpi.standardize(mean=mean, std=std)\n",
        "test_kpi, _, _ = test_kpi.standardize(mean=mean, std=std)\n",
        "\n",
        "# Create a Bagel instance\n",
        "model = bagel.models.Bagel()\n",
        "\n",
        "# Train and test\n",
        "r = model.fit(kpi=train_kpi.no_labels(),\n",
        "                validation_kpi=valid_kpi,\n",
        "                epochs=50)\n",
        "anomaly_scores = model.predict(test_kpi)\n",
        "results = bagel.testing.get_test_results(labels=test_kpi.labels,\n",
        "                                            scores=anomaly_scores,\n",
        "                                            missing=test_kpi.missing)\n",
        "\n",
        "# Print metrics\n",
        "print('Metrics')\n",
        "print(f'precision: {results.get(\"precision\"):.3f} - '\n",
        "        f'recall: {results.get(\"recall\"):.3f} - '\n",
        "        f'f1score: {results.get(\"f1score\"):.3f}\\n')\n",
        "\n",
        "# Plot losses\n",
        "plt.plot(r.get('loss'), label='Train Loss')\n",
        "plt.plot(r.get('val_loss'), label='Validation Loss')\n",
        "plt.legend()\n",
        "plt.show()"
      ],
      "execution_count": 4,
      "outputs": [
        {
          "output_type": "stream",
          "text": [
            "KPI: cpu4\n",
            "Training Epoch\n",
            "50/50 [==============================] - 12s 235ms/epoch - loss: -74.5264 - val_loss: -67.9937\n",
            "Testing Epoch\n",
            "21/21 [==============================] - 2s 116ms/step - test_loss: -63.3407\n",
            "Metrics\n",
            "precision: 1.000 - recall: 1.000 - f1score: 1.000\n",
            "\n"
          ],
          "name": "stdout"
        },
        {
          "output_type": "display_data",
          "data": {
            "image/png": "[encoded data removed]",
            "text/plain": [
              "<Figure size 432x288 with 1 Axes>"
            ]
          },
          "metadata": {
            "tags": [],
            "needs_background": "light"
          }
        }
      ]
    }
  ]
}